{
 "cells": [
  {
   "cell_type": "code",
   "execution_count": 6,
   "metadata": {},
   "outputs": [
    {
     "name": "stdout",
     "output_type": "stream",
     "text": [
      "\n",
      " What is your name ? ameya\n",
      "Enter Your mobile no. here: 9096523090\n",
      "Valid Number\n",
      " \n"
     ]
    }
   ],
   "source": [
    "import re\n",
    "def isValid(s): \n",
    "\n",
    "    Pattern = re.compile( '(0/91)?[7-9][0-9]{9}' )\n",
    "    return Pattern.match(s)\n",
    "\n",
    "user_no = {}\n",
    "number_open = True\n",
    "\n",
    "while number_open :\n",
    "    name = input(\"\\n What is your name ? \")\n",
    "    \n",
    "    s = input(\"Enter Your mobile no. here: \")\n",
    "    if (isValid(s)): \n",
    "        print (\"Valid Number\")\n",
    "    else : \n",
    "        print (\"Invalid Number\")\n",
    "        \n",
    "    \n",
    "    number_open = False\n",
    "    \n",
    "    user_no[name] = s\n",
    "    for name, s in user_no.items():        \n",
    "        s2 = (name+' :'+ s)\n",
    "    \n",
    "\n",
    "    \n",
    "if isValid(s):\n",
    "    print(\" \")\n",
    "    s1=open(\"abc.txt\",\"a+\")\n",
    "    s1.write('\\n')\n",
    "    s1.write(s2)\n",
    "    s1.close()"
   ]
  },
  {
   "cell_type": "code",
   "execution_count": null,
   "metadata": {},
   "outputs": [],
   "source": []
  }
 ],
 "metadata": {
  "kernelspec": {
   "display_name": "Python 3",
   "language": "python",
   "name": "python3"
  },
  "language_info": {
   "codemirror_mode": {
    "name": "ipython",
    "version": 3
   },
   "file_extension": ".py",
   "mimetype": "text/x-python",
   "name": "python",
   "nbconvert_exporter": "python",
   "pygments_lexer": "ipython3",
   "version": "3.7.6"
  }
 },
 "nbformat": 4,
 "nbformat_minor": 4
}
