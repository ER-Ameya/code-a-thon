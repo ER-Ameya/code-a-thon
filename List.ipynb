{
 "cells": [
  {
   "cell_type": "code",
   "execution_count": null,
   "metadata": {},
   "outputs": [],
   "source": [
    "input_string = input(\"Enter a list elements separated by space \")\n",
    "\n",
    "print(\"\\n\")\n",
    "userList1 = input_string.split()\n",
    "print(\"user list is \", userList1)\n",
    "\n",
    "input_string2 = input(\"Enter the second list elements separated by space \")\n",
    "\n",
    "print(\"\\n\")\n",
    "userList2 = input_string2.split()\n",
    "print(\"user list is \", userList2)\n",
    "\n",
    "set_1 = set(userList1)\n",
    "set_2 = set(userList2)\n",
    "\n",
    "mainlist = list(set_2 - set_1)\n",
    "combined_list = userList1 + mainlist\n",
    "print(combined_list)\n"
   ]
  },
  {
   "cell_type": "code",
   "execution_count": null,
   "metadata": {},
   "outputs": [],
   "source": []
  }
 ],
 "metadata": {
  "kernelspec": {
   "display_name": "Python 3",
   "language": "python",
   "name": "python3"
  },
  "language_info": {
   "codemirror_mode": {
    "name": "ipython",
    "version": 3
   },
   "file_extension": ".py",
   "mimetype": "text/x-python",
   "name": "python",
   "nbconvert_exporter": "python",
   "pygments_lexer": "ipython3",
   "version": "3.7.6"
  }
 },
 "nbformat": 4,
 "nbformat_minor": 4
}
